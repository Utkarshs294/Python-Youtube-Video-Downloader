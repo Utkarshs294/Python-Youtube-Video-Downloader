{
 "cells": [
  {
   "cell_type": "markdown",
   "id": "dd64b7df",
   "metadata": {},
   "source": [
    "# Import Libraries"
   ]
  },
  {
   "cell_type": "code",
   "execution_count": 1,
   "id": "dac3cd22",
   "metadata": {},
   "outputs": [],
   "source": [
    "from tkinter import *\n",
    "from pytube import YouTube"
   ]
  },
  {
   "cell_type": "markdown",
   "id": "619529bb",
   "metadata": {},
   "source": [
    "# Create Display Window"
   ]
  },
  {
   "cell_type": "code",
   "execution_count": 2,
   "id": "f080d3ad",
   "metadata": {},
   "outputs": [
    {
     "data": {
      "text/plain": [
       "''"
      ]
     },
     "execution_count": 2,
     "metadata": {},
     "output_type": "execute_result"
    }
   ],
   "source": [
    "root = Tk()\n",
    "root.geometry('500x300')\n",
    "root.resizable(0,0)\n",
    "root.title(\"Utkarsh-youtube video downloader\")\n"
   ]
  },
  {
   "cell_type": "code",
   "execution_count": 3,
   "id": "56e57e7e",
   "metadata": {},
   "outputs": [],
   "source": [
    "Label(root,text = 'Youtube Video Downloader', font ='arial 20 bold').pack()"
   ]
  },
  {
   "cell_type": "markdown",
   "id": "750e716c",
   "metadata": {},
   "source": [
    "# Create Field to Enter Link "
   ]
  },
  {
   "cell_type": "code",
   "execution_count": 4,
   "id": "85c594e6",
   "metadata": {},
   "outputs": [],
   "source": [
    "link = StringVar()\n",
    "\n",
    "Label(root, text = 'Paste Link Here:', font = 'arial 15 bold').place(x= 160 , y = 60)\n",
    "link_enter = Entry(root, width = 70,textvariable = link).place(x = 32, y = 90)\n"
   ]
  },
  {
   "cell_type": "markdown",
   "id": "f6e711c8",
   "metadata": {},
   "source": [
    "# Create Function to Start Downloading"
   ]
  },
  {
   "cell_type": "code",
   "execution_count": 5,
   "id": "020fe5b3",
   "metadata": {
    "scrolled": true
   },
   "outputs": [],
   "source": [
    "def Downloader():\n",
    "     \n",
    "    url =YouTube(str(link.get()))\n",
    "    video = url.streams.first()\n",
    "    video.download()\n",
    "    Label(root, text = 'DOWNLOADED', font = 'arial 15').place(x= 180 , y = 210)  \n",
    "\n",
    "\n",
    "Button(root,text = 'DOWNLOAD', font = 'arial 15 bold' ,bg = 'pale violet red', padx = 2, command = Downloader).place(x=180,y=150)\n",
    "\n",
    "\n",
    "root.mainloop()"
   ]
  },
  {
   "cell_type": "code",
   "execution_count": null,
   "id": "bfcc2025",
   "metadata": {},
   "outputs": [],
   "source": []
  }
 ],
 "metadata": {
  "kernelspec": {
   "display_name": "Python 3 (ipykernel)",
   "language": "python",
   "name": "python3"
  },
  "language_info": {
   "codemirror_mode": {
    "name": "ipython",
    "version": 3
   },
   "file_extension": ".py",
   "mimetype": "text/x-python",
   "name": "python",
   "nbconvert_exporter": "python",
   "pygments_lexer": "ipython3",
   "version": "3.11.3"
  }
 },
 "nbformat": 4,
 "nbformat_minor": 5
}
